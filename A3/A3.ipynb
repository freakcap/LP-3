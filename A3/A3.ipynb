{
 "cells": [
  {
   "cell_type": "code",
   "execution_count": 3,
   "metadata": {
    "colab": {
     "base_uri": "https://localhost:8080/"
    },
    "id": "TM2BrHui6ETn",
    "outputId": "5f64fb35-688e-4750-d2ea-36d081e6714c"
   },
   "outputs": [
    {
     "name": "stdout",
     "output_type": "stream",
     "text": [
      "General KNN: ['negative']\n",
      "Distance Weighted KNN: ['positive']\n"
     ]
    }
   ],
   "source": [
    "#import the packages\n",
    "import pandas as pd\n",
    "import numpy as np\n",
    "\n",
    "#Read dataset\n",
    "dataset=pd.read_csv(\"kdata.csv\")\n",
    "X=dataset.iloc[:,:-1].values\n",
    "y=dataset.iloc[:,2].values\n",
    "\n",
    "#import KNeighborshood Classifier and create object of it\n",
    "from sklearn.neighbors import KNeighborsClassifier\n",
    "classifier=KNeighborsClassifier(n_neighbors=3)\n",
    "classifier.fit(X,y)\n",
    "\n",
    "#predict the class for the point(6,6)\n",
    "X_test=np.array([6,2])\n",
    "y_pred=classifier.predict([X_test])\n",
    "print ('General KNN:',y_pred)\n",
    "\n",
    "classifier=KNeighborsClassifier(n_neighbors=3,weights='distance')\n",
    "classifier.fit(X,y)\n",
    "\n",
    "#predict the class for the point(6,6)\n",
    "X_test=np.array([6,2])\n",
    "y_pred=classifier.predict([X_test])\n",
    "print ('Distance Weighted KNN:',y_pred)"
   ]
  }
 ],
 "metadata": {
  "colab": {
   "name": "A3.ipynb",
   "provenance": []
  },
  "kernelspec": {
   "display_name": "Python 3",
   "language": "python",
   "name": "python3"
  },
  "language_info": {
   "codemirror_mode": {
    "name": "ipython",
    "version": 3
   },
   "file_extension": ".py",
   "mimetype": "text/x-python",
   "name": "python",
   "nbconvert_exporter": "python",
   "pygments_lexer": "ipython3",
   "version": "3.7.9"
  }
 },
 "nbformat": 4,
 "nbformat_minor": 1
}
